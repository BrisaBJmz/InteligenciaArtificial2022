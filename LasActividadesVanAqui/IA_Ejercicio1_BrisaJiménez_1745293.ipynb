{
  "nbformat": 4,
  "nbformat_minor": 0,
  "metadata": {
    "colab": {
      "name": "IA_Ejercicio1_BrisaJiménez_1745293.ipynb",
      "provenance": [],
      "collapsed_sections": []
    },
    "kernelspec": {
      "name": "python3",
      "display_name": "Python 3"
    },
    "language_info": {
      "name": "python"
    }
  },
  "cells": [
    {
      "cell_type": "markdown",
      "source": [
        "# **Actividad #2: Ejercicios básicos de Python**\n",
        "\n",
        "1745293 || Brisa Bianey Jiménez de León\n",
        "\n",
        "Hora: Jueves N1-N3"
      ],
      "metadata": {
        "id": "Ll_c3DeDhf0i"
      }
    },
    {
      "cell_type": "code",
      "source": [
        "\"\"\" Ejercicio 1  \"\"\"\n",
        "\n",
        "#Declarar los nombres a evitar\n",
        "a= \"Ana\"\n",
        "b= \"Juan\"\n",
        "c= \"Pedro\"\n",
        "\n",
        "#Pedir el nombre al usuario\n",
        "nombre=input(\"Introduzca su nombre: \")\n",
        "\n",
        "#Establecer las condiciones\n",
        "if nombre == a:\n",
        "  print(\"Introduzca otro nombre\")\n",
        "elif nombre == b:\n",
        "  print(\"Introduzca otro nombre\")\n",
        "elif nombre == c:\n",
        "  print(\"Introduzca otro nombre\")\n",
        "else:\n",
        "  print(\"Hola, \" + nombre)\n",
        "  \n",
        "\n"
      ],
      "metadata": {
        "colab": {
          "base_uri": "https://localhost:8080/"
        },
        "id": "M3H0KavBbVAy",
        "outputId": "269b9848-dd4b-41c0-f336-b3f031119756"
      },
      "execution_count": null,
      "outputs": [
        {
          "output_type": "stream",
          "name": "stdout",
          "text": [
            "Introduzca su nombre: Luis\n",
            "Hola, Luis\n"
          ]
        }
      ]
    },
    {
      "cell_type": "code",
      "source": [
        "\"\"\" Ejercicio 2 \"\"\"\n",
        "\n",
        "lista=[1,2,3,4,5]\n",
        "print(\"Último elemento:\",lista[-1]) #imprimir el último elemento\n",
        "print(\"Lista revertida:\",list(reversed(lista))) #imprimir lista revertida"
      ],
      "metadata": {
        "colab": {
          "base_uri": "https://localhost:8080/"
        },
        "id": "xH35V4UndG2C",
        "outputId": "2b4558f4-5faf-4690-f805-36ff78ee33c8"
      },
      "execution_count": null,
      "outputs": [
        {
          "output_type": "stream",
          "name": "stdout",
          "text": [
            "Último elemento: 5\n",
            "Lista revertida: [5, 4, 3, 2, 1]\n"
          ]
        }
      ]
    },
    {
      "cell_type": "code",
      "source": [
        "\"\"\" Ejercicio 3 \"\"\"\n",
        "palabras=[\"Ayer\", \"pasó\",\"algo\", \"raro\"] #Declarar lista\n",
        "print(\"********\") #marco\n",
        "for x in palabras:\n",
        "  print(\"* \" + x + \" *\") #lista y marco\n",
        "print(\"********\") #marco\n"
      ],
      "metadata": {
        "colab": {
          "base_uri": "https://localhost:8080/"
        },
        "id": "VVsza_o8rycJ",
        "outputId": "81c768c0-2819-4bc9-ac4b-29c88f08d433"
      },
      "execution_count": null,
      "outputs": [
        {
          "output_type": "stream",
          "name": "stdout",
          "text": [
            "********\n",
            "* Ayer *\n",
            "* pasó *\n",
            "* algo *\n",
            "* raro *\n",
            "********\n"
          ]
        }
      ]
    }
  ]
}